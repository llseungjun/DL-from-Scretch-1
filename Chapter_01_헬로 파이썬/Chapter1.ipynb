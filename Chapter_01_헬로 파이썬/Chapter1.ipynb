{
  "cells": [
    {
      "cell_type": "markdown",
      "metadata": {
        "id": "dcq6FhzQNUnl"
      },
      "source": [
        "# 1.1 파이썬이란\n",
        " - 데이터 과학 분야에서 파이썬 언어가 유용함을 설명함"
      ]
    },
    {
      "cell_type": "markdown",
      "metadata": {
        "id": "nZMb-eSLNvpZ"
      },
      "source": [
        "# 1.2 파이썬 설치하기\n",
        "- 파이썬 3와 넘파이, matplotlib을 본 책에서는 사용한다고 안내함\n",
        "- 아나콘다도 설치할 것을 권장함"
      ]
    },
    {
      "cell_type": "markdown",
      "metadata": {
        "id": "JauufeXWOFFz"
      },
      "source": [
        "# 1.3 파이썬 인터프리터\n",
        "- 인터프리터 모드(쉘 모드)로 기본 문법 안내\n",
        "- 산술연산, 자료형, 변수, 리스트, 딕셔너리, bool, if, for, 함수에 대한 기본 문법 안내"
      ]
    },
    {
      "cell_type": "markdown",
      "metadata": {
        "id": "Z2huF5WFPmld"
      },
      "source": [
        "# 1.4 파이썬 스크립트 파일\n",
        "- 파이썬 스크립트 파일을 저장하고 실행함\n",
        "- 클래스를 정의하고 인스턴스를 생성함"
      ]
    },
    {
      "cell_type": "markdown",
      "metadata": {
        "id": "VmgHcI9vRgmo"
      },
      "source": [
        "# 1.5 넘파이\n",
        "- 넘파이의 ndarray에 대한 기본적인 기능들에 대해서 설명"
      ]
    },
    {
      "cell_type": "markdown",
      "metadata": {
        "id": "QDrVS0FvRsOH"
      },
      "source": [
        "## 1.5.1 넘파이 가져오기"
      ]
    },
    {
      "cell_type": "code",
      "execution_count": 1,
      "metadata": {
        "id": "WFD19VauMzYl"
      },
      "outputs": [],
      "source": [
        "import numpy as np"
      ]
    },
    {
      "cell_type": "markdown",
      "metadata": {
        "id": "9jGW3WRuR3GD"
      },
      "source": [
        "## 1.5.2 넘파이 배열 생성하기"
      ]
    },
    {
      "cell_type": "code",
      "execution_count": 2,
      "metadata": {
        "id": "pKUIzafuNSe-"
      },
      "outputs": [
        {
          "name": "stdout",
          "output_type": "stream",
          "text": [
            "ndarray 'x' :  [1. 2. 3.]\n",
            "type of variable 'x' :  <class 'numpy.ndarray'>\n",
            "shape of ndarray 'x' :  (3,)\n"
          ]
        }
      ],
      "source": [
        "x = np.array([1.0, 2.0, 3.0])\n",
        "print(\"ndarray 'x' : \", x)\n",
        "print(\"type of variable 'x' : \", type(x))\n",
        "print(\"shape of ndarray 'x' : \", x.shape)"
      ]
    },
    {
      "cell_type": "markdown",
      "metadata": {
        "id": "2yAf_dpoSaH6"
      },
      "source": [
        "# 1.5.3 넘파이의 산술 연산\n",
        "- 아래 코드에서 원소별, 즉 각 array의 같은 위치에 있는 원소끼리의 계산을 **'element-wise'**라고 한다.\n",
        "    - 예를 들어 '원소별 곱셈'은 **'element-wise product'**라고 한다."
      ]
    },
    {
      "cell_type": "code",
      "execution_count": 3,
      "metadata": {
        "id": "g_tXX344SH3T"
      },
      "outputs": [
        {
          "name": "stdout",
          "output_type": "stream",
          "text": [
            "x + y :  [3. 6. 9.]\n",
            "x - y :  [-1. -2. -3.]\n",
            "x * y :  [ 2.  8. 18.]\n",
            "x / y :  [0.5 0.5 0.5]\n"
          ]
        }
      ],
      "source": [
        "x = np.array([1.0, 2.0, 3.0])\n",
        "y = np.array([2.0, 4.0, 6.0])\n",
        "print(\"x + y : \",x+y) # 원소별 덧셈\n",
        "print(\"x - y : \",x-y) # 원소별 뺄셈\n",
        "print(\"x * y : \",x*y) # 원소별 곱셈\n",
        "print(\"x / y : \",x/y) # 원소별 나눗셈"
      ]
    },
    {
      "cell_type": "code",
      "execution_count": 4,
      "metadata": {
        "id": "L4TclfdLS2kK"
      },
      "outputs": [
        {
          "data": {
            "text/plain": [
              "array([0.5, 1. , 1.5])"
            ]
          },
          "execution_count": 4,
          "metadata": {},
          "output_type": "execute_result"
        }
      ],
      "source": [
        "# broadcast 맛보기\n",
        "x = np.array([1.0, 2.0, 3.0])\n",
        "x/2.0"
      ]
    },
    {
      "cell_type": "markdown",
      "metadata": {
        "id": "oykB3eK-UFzo"
      },
      "source": [
        "## 1.5.4 넘파이의 N차원 배열"
      ]
    },
    {
      "cell_type": "code",
      "execution_count": 5,
      "metadata": {
        "id": "dMdviiBHT-pW"
      },
      "outputs": [
        {
          "name": "stdout",
          "output_type": "stream",
          "text": [
            "A : \n",
            " [[1 2]\n",
            " [3 4]]\n",
            "shape of A :  (2, 2)\n",
            "dtype of A :  int32\n"
          ]
        }
      ],
      "source": [
        "A = np.array([[1, 2], [3, 4]])\n",
        "print(\"A : \\n\", A)\n",
        "print(\"shape of A : \", A.shape)\n",
        "print(\"dtype of A : \", A.dtype)"
      ]
    },
    {
      "cell_type": "code",
      "execution_count": 6,
      "metadata": {
        "id": "DYkKyIXoUmxP"
      },
      "outputs": [
        {
          "name": "stdout",
          "output_type": "stream",
          "text": [
            "A+B : \n",
            " [[ 4  2]\n",
            " [ 3 10]]\n",
            "A*B : \n",
            " [[ 3  0]\n",
            " [ 0 24]]\n"
          ]
        }
      ],
      "source": [
        "# 형상이 같은 배열일 경우 element-wise operation이 가능\n",
        "B = np.array([[3,0],[0,6]])\n",
        "print(\"A+B : \\n\", A+B)\n",
        "print(\"A*B : \\n\", A*B)"
      ]
    },
    {
      "cell_type": "code",
      "execution_count": 7,
      "metadata": {
        "id": "DOrhUrvjVcvd"
      },
      "outputs": [
        {
          "name": "stdout",
          "output_type": "stream",
          "text": [
            "A : \n",
            " [[1 2]\n",
            " [3 4]]\n",
            "A*10 : \n",
            " [[10 20]\n",
            " [30 40]]\n"
          ]
        }
      ],
      "source": [
        "# N차원 배열의 브로드캐스트\n",
        "print(\"A : \\n\", A)\n",
        "print(\"A*10 : \\n\", A*10)"
      ]
    },
    {
      "cell_type": "markdown",
      "metadata": {
        "id": "hbXD24-oUcCx"
      },
      "source": [
        "# 1.5.5 브로드캐스트"
      ]
    },
    {
      "cell_type": "code",
      "execution_count": 8,
      "metadata": {
        "id": "4wab5qeUUZrS"
      },
      "outputs": [
        {
          "name": "stdout",
          "output_type": "stream",
          "text": [
            "A*B : \n",
            " [[10 40]\n",
            " [30 80]]\n"
          ]
        }
      ],
      "source": [
        "A = np.array([[1,2],[3,4]])\n",
        "B = np.array([10,20])\n",
        "print(\"A*B : \\n\",A*B) # B의 열 순서대로 A 행렬의 각 행에 곱해진다."
      ]
    },
    {
      "cell_type": "markdown",
      "metadata": {
        "id": "i7glB4ssWszt"
      },
      "source": [
        "## 1.5.6 원소 접근"
      ]
    },
    {
      "cell_type": "code",
      "execution_count": 9,
      "metadata": {
        "id": "I37v1Yl1Wl4A"
      },
      "outputs": [
        {
          "name": "stdout",
          "output_type": "stream",
          "text": [
            "X : \n",
            " [[51 55]\n",
            " [14 19]\n",
            " [ 0  4]]\n",
            "X[0] :  [51 55]\n",
            "X[0][1] :  55\n"
          ]
        }
      ],
      "source": [
        "X = np.array([[51,55],[14,19],[0,4]])\n",
        "print(\"X : \\n\",X)\n",
        "print(\"X[0] : \",X[0]) # 0번째 행\n",
        "print(\"X[0][1] : \",X[0][1]) # 0번째 행의 1번째 열"
      ]
    },
    {
      "cell_type": "code",
      "execution_count": null,
      "metadata": {
        "id": "s_YUO9LxW4u7"
      },
      "outputs": [],
      "source": [
        "for i,row in enumerate(X): # 기존 책 내용에서 enumerate 추가, enumerate 함수가 궁금하다면 -> https://www.daleseo.com/python-enumerate/ 참고\n",
        "    print(\"%d번째 행 : \" %i,row)"
      ]
    },
    {
      "cell_type": "markdown",
      "metadata": {
        "id": "fnEw3IlGYrEq"
      },
      "source": [
        "### tip : 인덱스를 배열로 지정해 한 번에 여러 원소에 접근하는 법"
      ]
    },
    {
      "cell_type": "code",
      "execution_count": null,
      "metadata": {
        "id": "NmCpTLFMYQUV"
      },
      "outputs": [],
      "source": [
        "X = X.flatten() # x를 1차원 배열로 변환(평탄화)\n",
        "print(X)\n",
        "X[np.array([0,2,4])] # 인덱스가 0,2,4인 원소 얻기"
      ]
    },
    {
      "cell_type": "code",
      "execution_count": null,
      "metadata": {
        "id": "EJc1-LWBXmOe"
      },
      "outputs": [],
      "source": [
        "# 특정 조건을 만족하는 원소 얻기\n",
        "print(X>15) # boolean array\n",
        "print(X[X>15]) # True인 원소만 X 배열에서 출력"
      ]
    },
    {
      "cell_type": "markdown",
      "metadata": {
        "id": "IBXgedSuZqkO"
      },
      "source": [
        "# 1.6 matplotlib"
      ]
    },
    {
      "cell_type": "markdown",
      "metadata": {
        "id": "PzzJCPVkgSIC"
      },
      "source": [
        "## 1.6.1 단순한 그래프 그리기\n",
        "- **matplotlib 라이브러리의 pyplot 모듈**을 활용해서 그래프를 그릴 수 있음"
      ]
    },
    {
      "cell_type": "code",
      "execution_count": null,
      "metadata": {
        "id": "jCgmH4krZcEL"
      },
      "outputs": [],
      "source": [
        "import numpy as np\n",
        "import matplotlib.pyplot as plt\n",
        "\n",
        "# 데이터 준비\n",
        "x = np.arange(0, 6, 0.1) # 0에서 6까지 0.1 간격으로 생성\n",
        "y = np.sin(x)\n",
        "\n",
        "# 그래프 그리기\n",
        "plt.plot(x, y)\n",
        "plt.show()"
      ]
    },
    {
      "cell_type": "markdown",
      "metadata": {
        "id": "BnuxaTfVhztw"
      },
      "source": [
        "## 1.6.2 pyplot의 기능\n",
        "- 그래프 2개를 중첩해서 표현 가능\n",
        "- 제목, 각 축의 이름 표시, 제목, linestyle, legend 기능"
      ]
    },
    {
      "cell_type": "code",
      "execution_count": null,
      "metadata": {
        "id": "ZYqzxUCAggHW"
      },
      "outputs": [],
      "source": [
        "import numpy as np\n",
        "import matplotlib.pyplot as plt\n",
        "\n",
        "# 데이터 준비\n",
        "x = np.arange(0, 6, 0.1) # 0에서 6까지 0.1 간격으로 생성\n",
        "y1 = np.sin(x)\n",
        "y2 = np.cos(x)\n",
        "\n",
        "# 그래프 그리기\n",
        "plt.plot(x, y1, label=\"sin\")\n",
        "plt.plot(x, y2, linestyle=\"--\", label=\"cos\") # cos 함수는 점선으로 그리기\n",
        "plt.xlabel(\"x\") # x축 이름\n",
        "plt.ylabel(\"y\") # y축 이름\n",
        "plt.title(\"sin & cos\") # 제목\n",
        "plt.legend()\n",
        "plt.show()"
      ]
    },
    {
      "cell_type": "markdown",
      "metadata": {
        "id": "p_ElCUQyil8Z"
      },
      "source": [
        "## 1.6.3 이미지 표시하기\n",
        "- pyplot 모듈에는 이미지를 표시해주는 메서드인 imshow()가 있음\n",
        "- 이미지를 읽어서 메모리에 할당하는 모듈은 **matplotlib의 image 모듈이고 imread 메서드로 이미지를 읽는다.**"
      ]
    },
    {
      "cell_type": "code",
      "execution_count": 1,
      "metadata": {
        "id": "LvACevvEifDE"
      },
      "outputs": [
        {
          "ename": "ModuleNotFoundError",
          "evalue": "No module named 'matplotlib'",
          "output_type": "error",
          "traceback": [
            "\u001b[1;31m---------------------------------------------------------------------------\u001b[0m",
            "\u001b[1;31mModuleNotFoundError\u001b[0m                       Traceback (most recent call last)",
            "Cell \u001b[1;32mIn[1], line 1\u001b[0m\n\u001b[1;32m----> 1\u001b[0m \u001b[38;5;28;01mimport\u001b[39;00m \u001b[38;5;21;01mmatplotlib\u001b[39;00m\u001b[38;5;21;01m.\u001b[39;00m\u001b[38;5;21;01mpyplot\u001b[39;00m \u001b[38;5;28;01mas\u001b[39;00m \u001b[38;5;21;01mplt\u001b[39;00m\n\u001b[0;32m      2\u001b[0m \u001b[38;5;28;01mimport\u001b[39;00m \u001b[38;5;21;01mmatplotlib\u001b[39;00m\u001b[38;5;21;01m.\u001b[39;00m\u001b[38;5;21;01mimage\u001b[39;00m \u001b[38;5;28;01mas\u001b[39;00m \u001b[38;5;21;01mimread\u001b[39;00m\n\u001b[0;32m      4\u001b[0m img \u001b[38;5;241m=\u001b[39m imread(\u001b[38;5;124m'\u001b[39m\u001b[38;5;124m./images/fig 1-5.png\u001b[39m\u001b[38;5;124m'\u001b[39m)\n",
            "\u001b[1;31mModuleNotFoundError\u001b[0m: No module named 'matplotlib'"
          ]
        }
      ],
      "source": [
        "import matplotlib.pyplot as plt\n",
        "import matplotlib.image as imread\n",
        "\n",
        "img = imread('./images/fig 1-5.png')\n",
        "plt.imshow(img)\n",
        "plt.show"
      ]
    },
    {
      "cell_type": "code",
      "execution_count": 2,
      "metadata": {
        "id": "hWZ3tVQhjt-L"
      },
      "outputs": [
        {
          "name": "stdout",
          "output_type": "stream",
          "text": [
            "^C\n"
          ]
        }
      ],
      "source": [
        "!conda install matplotlib"
      ]
    },
    {
      "cell_type": "code",
      "execution_count": null,
      "metadata": {},
      "outputs": [],
      "source": []
    }
  ],
  "metadata": {
    "colab": {
      "private_outputs": true,
      "provenance": []
    },
    "kernelspec": {
      "display_name": "Python 3",
      "name": "python3"
    },
    "language_info": {
      "codemirror_mode": {
        "name": "ipython",
        "version": 3
      },
      "file_extension": ".py",
      "mimetype": "text/x-python",
      "name": "python",
      "nbconvert_exporter": "python",
      "pygments_lexer": "ipython3",
      "version": "3.8.19"
    }
  },
  "nbformat": 4,
  "nbformat_minor": 0
}
